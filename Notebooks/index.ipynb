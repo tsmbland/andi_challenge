{
 "cells": [
  {
   "cell_type": "markdown",
   "metadata": {},
   "source": [
    "There are four notebooks in the Notebooks folder that lay out some of the features of this repository and provide further instructions on performing analysis:\n",
    "\n",
    "- [Notebook 1](trajectory_preprocessing.ipynb) - Generating and preprocessing trajectories\n",
    "- [Notebook 2](exponent_inference.ipynb) - Inference of anomalous exponent using trained CNNs\n",
    "- [Notebook 3](model_classification.ipynb) - Inference of diffusion model using trained CNNs\n",
    "- [Notebook 4](segmentation.ipynb) - Segmentation of trajectories using trained CNNs"
   ]
  },
  {
   "cell_type": "code",
   "execution_count": null,
   "metadata": {},
   "outputs": [],
   "source": []
  }
 ],
 "metadata": {
  "kernelspec": {
   "display_name": "Python 3 (ipykernel)",
   "language": "python",
   "name": "python3"
  },
  "language_info": {
   "codemirror_mode": {
    "name": "ipython",
    "version": 3
   },
   "file_extension": ".py",
   "mimetype": "text/x-python",
   "name": "python",
   "nbconvert_exporter": "python",
   "pygments_lexer": "ipython3",
   "version": "3.7.12"
  }
 },
 "nbformat": 4,
 "nbformat_minor": 4
}
